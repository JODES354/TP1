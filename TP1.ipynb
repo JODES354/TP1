{
 "cells": [
  {
   "attachments": {},
   "cell_type": "markdown",
   "metadata": {},
   "source": [
    "Capacité thermique d'un solide :\n",
    "\n",
    "\n",
    "Selon le modèle de Debye (Peter Joseph Wilhelm Debye, 1884-1966, prix Nobel de chimie en 1936),\n",
    "la capacité thermique d’un solide à la température T est donné par\n",
    "\n",
    "$C_V = 9V ρ k_B (\\frac{T}{\\theta_D})^3 \\int_0^{\\frac{\\theta_D}{T}} \\frac{x^4 e^x}{(e^x - 1)^2} dx$\n",
    "\n",
    "\n",
    "où V est le volume du solide, ρ est la densité d’atomes, kB est la constante de Boltzmann et $θ_D$\n",
    "est la température de Debye du matériau, qui dépend de la densité et de la vitesse du son (cette\n",
    "formule est obtenue en considérant les vibrations du réseau atomique comme des phonons)."
   ]
  },
  {
   "cell_type": "code",
   "execution_count": 4,
   "metadata": {},
   "outputs": [],
   "source": [
    "from numpy import linspace,  ones, copy\n",
    "from math import cos, pi, tan\n",
    "\n",
    "def gaussxw(N):\n",
    "    a = linspace(3,4*N-1,N)/(4*N+2)\n",
    "    x = cos(pi*a+1/(8*N*N*tan(a)))\n",
    "\n",
    "    epsilon = 1e-15\n",
    "    delta = 1.0\n",
    "    while delta>epsilon:\n",
    "        p0 = ones(N,float)\n",
    "        p1 = copy(x)\n",
    "        for k in range(1,N):\n",
    "            p0,p1 = p1,((2*k+1)*x*p1-k*p0)/(k+1)\n",
    "        dp = (N+1)*(p0-x*p1)/(1-x*x)\n",
    "        dx = p1/dp\n",
    "        x -= dx\n",
    "        delta = max(abs(dx))\n",
    "\n",
    "    w = 2*(N+1)*(N+1)/(N*N*(1-x*x)*dp*dp)\n",
    "    return x, w\n",
    "\n",
    "def gaussxwab(N,a,b):\n",
    "    x,w = gaussxw(N)\n",
    "    return 0.5*(b-a)*x+0.5*(b+a),0.5*(b-a)*w"
   ]
  },
  {
   "attachments": {},
   "cell_type": "markdown",
   "metadata": {},
   "source": [
    "1. Ecrivez une fonction Python qui calcule $C_V (T)$ pour une valeur de temp´erature donnée. Considérez\n",
    "un échantillon d’aluminium de $1000 cm^3$\n",
    ", qui a une densité d’atomes de $ρ = 6.022 × 10^28 m^−3$\n",
    "et une température de Debye de $θ_D = 428 K$. Evaluez avec une quadrature gaussienne avec\n",
    "$N = 25$ points d’échantillonnage et portez en graphique la valeur de la capacité thermique sur\n",
    "l’intervalle $T =5 K$ à $T =500 K$."
   ]
  }
 ],
 "metadata": {
  "kernelspec": {
   "display_name": "Python 3",
   "language": "python",
   "name": "python3"
  },
  "language_info": {
   "codemirror_mode": {
    "name": "ipython",
    "version": 3
   },
   "file_extension": ".py",
   "mimetype": "text/x-python",
   "name": "python",
   "nbconvert_exporter": "python",
   "pygments_lexer": "ipython3",
   "version": "3.10.10"
  },
  "orig_nbformat": 4,
  "vscode": {
   "interpreter": {
    "hash": "fe94fa8470f7a1622dd616abeeb7f9cefd1701df11f2e40549aead83847c266e"
   }
  }
 },
 "nbformat": 4,
 "nbformat_minor": 2
}
